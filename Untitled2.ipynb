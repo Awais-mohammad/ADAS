{
  "nbformat": 4,
  "nbformat_minor": 0,
  "metadata": {
    "colab": {
      "provenance": [],
      "authorship_tag": "ABX9TyOfW5yG+Rt1lmjM7OCoMMac",
      "include_colab_link": true
    },
    "kernelspec": {
      "name": "python3",
      "display_name": "Python 3"
    },
    "language_info": {
      "name": "python"
    }
  },
  "cells": [
    {
      "cell_type": "markdown",
      "metadata": {
        "id": "view-in-github",
        "colab_type": "text"
      },
      "source": [
        "<a href=\"https://colab.research.google.com/github/Awais-mohammad/ADAS/blob/master/Untitled2.ipynb\" target=\"_parent\"><img src=\"https://colab.research.google.com/assets/colab-badge.svg\" alt=\"Open In Colab\"/></a>"
      ]
    },
    {
      "cell_type": "code",
      "execution_count": null,
      "metadata": {
        "id": "L7mrQrJwzcUY"
      },
      "outputs": [],
      "source": [
        "\n",
        "import numpy as np\n",
        "import pandas as pd\n",
        "import warnings\n",
        "import shap\n",
        "import matplotlib.pyplot as plt\n",
        "from catboost import Pool, CatBoostRegressor\n",
        "from sklearn.metrics import mean_squared_error\n",
        "from sklearn.model_selection import train_test_split\n",
        "from feature_engine.encoding import RareLabelEncoder\n",
        "from sklearn.feature_extraction.text import CountVectorizer\n",
        "import re\n",
        "\n",
        "warnings.filterwarnings(\"ignore\")\n",
        "\n",
        "pd.set_option('display.max_rows', 1000)\n",
        "df = pd.read_csv('/kaggle/input/diamonds/diamonds.csv').drop_duplicates()\n",
        "\n",
        "main_label = 'log10_price'\n",
        "df[main_label] = df['price'].apply(lambda x: np.log10(x))\n",
        "\n",
        "# Data transformation\n",
        "df['log10_carat'] = df['carat'].apply(lambda x: 1/50*round(50*np.log10(x)))\n",
        "df = df[df['x']>0]\n",
        "df = df[df['y']>0]\n",
        "df = df[df['z']>0]\n",
        "df['log10mean'] = (df['x'] + df['y']).apply(lambda x: 1/10*round(10*np.log10(0.5*x)))\n",
        "df['depth'] = df['depth'].apply(lambda x: str(5*round(1/5*x)))\n",
        "df['table'] = df['table'].apply(lambda x: str(5*round(1/5*x)))\n",
        "for col in ['cut', 'color', 'clarity', 'depth', 'table']:\n",
        "    df[col] = df[col].fillna('None')\n",
        "    encoder = RareLabelEncoder(n_categories=1, max_n_categories=60, replace_with='Other', tol=20.0/df.shape[0])\n",
        "    df[col] = encoder.fit_transform(df[[col]])\n",
        "cols2drop = ['price', 'carat', 'x', 'y', 'z']\n",
        "df = df.drop(cols2drop, axis=1)\n",
        "\n",
        "# Machine learning\n",
        "y = df[main_label].values.reshape(-1,)\n",
        "X = df.drop([main_label], axis=1)\n",
        "cat_cols = df.select_dtypes(include=['object']).columns\n",
        "cat_cols_idx = [list(X.columns).index(c) for c in cat_cols]\n",
        "X_train, X_test, y_train, y_test = train_test_split(X, y, test_size=0.5, random_state=0)\n",
        "\n",
        "train_pool = Pool(X_train, y_train, cat_features=cat_cols_idx)\n",
        "test_pool = Pool(X_test, y_test, cat_features=cat_cols_idx)\n",
        "\n",
        "model = CatBoostRegressor(iterations=700, depth=5, verbose=0, learning_rate=0.1, loss_function='RMSE')\n",
        "model.fit(train_pool)\n",
        "y_train_pred = model.predict(train_pool)\n",
        "y_test_pred = model.predict(test_pool)\n",
        "\n",
        "rmse_train = mean_squared_error(y_train, y_train_pred, squared=False)\n",
        "rmse_test = mean_squared_error(y_test, y_test_pred, squared=False)\n",
        "print(f\"RMSE score for train {round(rmse_train, 3)} dex, and for test {round(rmse_test, 3)} dex\")\n",
        "\n",
        "# Explanations with SHAP values\n",
        "shap.initjs()\n",
        "ex = shap.TreeExplainer(model)\n",
        "shap_values = ex.shap_values(X_test)\n",
        "shap.summary_plot(shap_values, X_test)\n",
        "\n",
        "expected_values = ex.expected_value\n",
        "print(f\"Average predicted price is {round(10**expected_values)} USD\")\n",
        "print(f\"Average actual price is {round(10**np.mean(y_test))} USD\")\n",
        "\n",
        "def show_shap(col, shap_values=shap_values, label=main_label, X_test=X_test, ylabel='dex'):\n",
        "    df_infl = X_test.copy()\n",
        "    df_infl['shap_'] = shap_values[:, df_infl.columns.tolist().index(col)]\n",
        "    gain = round(df_infl.groupby(col).mean()['shap_'], 4)\n",
        "    gain_std = round(df_infl.groupby(col).std()['shap_'], 4)\n",
        "    cnt = df_infl.groupby(col).count()['shap_']\n",
        "    dd_dict = {'col': list(gain.index), 'gain': list(gain.values), 'gain_std': list(gain_std.values), 'count': cnt}\n",
        "    df_res = pd.DataFrame.from_dict(dd_dict).sort_values('gain', ascending=False).set_index('col')\n",
        "    plt.figure(figsize=(12, 9))\n",
        "    plt.errorbar(df_res.index, df_res['gain'], yerr=df_res['gain_std'], fmt=\"o\", color=\"r\")\n",
        "    plt.title(f'SHAP values for column {col}, label {label}')\n",
        "    plt.ylabel(ylabel)\n",
        "    plt.tick_params(axis=\"x\", rotation=90)\n",
        "    plt.show()\n",
        "    print(df_res)\n",
        "    return\n",
        "\n",
        "for col in X_test.columns:\n",
        "    print()\n",
        "    print(col)\n",
        "    print()\n",
        "    show_shap(col, shap_values, label=main_label, X_test=X_test)"
      ]
    }
  ]
}